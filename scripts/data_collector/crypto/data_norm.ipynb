{
 "cells": [
  {
   "cell_type": "code",
   "execution_count": 3,
   "metadata": {},
   "outputs": [],
   "source": [
    "import os\n",
    "import pandas as pd\n",
    "\n",
    "\n",
    "directory_path = '/home/gaoyulin/qlib/data/source/binanceus'\n",
    "\n",
    "save_path = '/home/gaoyulin/qlib/data/source/binanceus_norm'\n",
    "\n",
    "if not os.path.exists(save_path):\n",
    "    os.makedirs(save_path)\n",
    "\n",
    "file_list = [f for f in os.listdir(directory_path) if f.endswith('.feather')]\n",
    "\n",
    "\n",
    "for file_name in file_list:\n",
    "    \n",
    "    file_path = os.path.join(directory_path, file_name)\n",
    "    symbol = file_name.strip().split('-')[0]\n",
    "    \n",
    "    df = pd.read_feather(file_path)\n",
    "    \n",
    "    df.set_index('date', inplace=True)\n",
    "    df.index = pd.to_datetime(df.index)\n",
    "    df.index = df.index.tz_localize(None)\n",
    "    \n",
    "    df['symbol'] = symbol\n",
    "    df.reset_index(inplace=True)\n",
    "    df.to_csv(os.path.join(save_path, symbol + \".csv\"), index=False)\n",
    "    \n",
    "    "
   ]
  },
  {
   "cell_type": "code",
   "execution_count": null,
   "metadata": {},
   "outputs": [],
   "source": []
  }
 ],
 "metadata": {
  "kernelspec": {
   "display_name": "quant",
   "language": "python",
   "name": "python3"
  },
  "language_info": {
   "codemirror_mode": {
    "name": "ipython",
    "version": 3
   },
   "file_extension": ".py",
   "mimetype": "text/x-python",
   "name": "python",
   "nbconvert_exporter": "python",
   "pygments_lexer": "ipython3",
   "version": "3.8.18"
  }
 },
 "nbformat": 4,
 "nbformat_minor": 2
}
